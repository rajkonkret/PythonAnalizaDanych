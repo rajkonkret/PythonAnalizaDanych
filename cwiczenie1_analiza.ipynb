{
  "nbformat": 4,
  "nbformat_minor": 0,
  "metadata": {
    "colab": {
      "provenance": [],
      "authorship_tag": "ABX9TyNf1VwuqSXpEMA+7CR3kq+j",
      "include_colab_link": true
    },
    "kernelspec": {
      "name": "python3",
      "display_name": "Python 3"
    },
    "language_info": {
      "name": "python"
    }
  },
  "cells": [
    {
      "cell_type": "markdown",
      "metadata": {
        "id": "view-in-github",
        "colab_type": "text"
      },
      "source": [
        "<a href=\"https://colab.research.google.com/github/rajkonkret/PythonAnalizaDanych/blob/master/cwiczenie1_analiza.ipynb\" target=\"_parent\"><img src=\"https://colab.research.google.com/assets/colab-badge.svg\" alt=\"Open In Colab\"/></a>"
      ]
    },
    {
      "cell_type": "markdown",
      "source": [
        "Początek programu\n",
        "**pogrubiony tekst**<br>\n",
        "Nowa linia\n",
        "# Nowa sekcja\n",
        "## Nowa sekcja"
      ],
      "metadata": {
        "id": "qF2-XcYSyUqt"
      }
    },
    {
      "cell_type": "code",
      "execution_count": 1,
      "metadata": {
        "colab": {
          "base_uri": "https://localhost:8080/"
        },
        "id": "L5-w5zdpwzY9",
        "outputId": "5a779649-43fa-4d93-d933-3abaf5595f8d"
      },
      "outputs": [
        {
          "output_type": "stream",
          "name": "stdout",
          "text": [
            "Witaj w notatniku...\n"
          ]
        }
      ],
      "source": [
        "print(\"Witaj w notatniku...\")"
      ]
    },
    {
      "cell_type": "code",
      "source": [
        "a=5\n",
        "b=6"
      ],
      "metadata": {
        "id": "j9yfJlXF0pxp"
      },
      "execution_count": 2,
      "outputs": []
    },
    {
      "cell_type": "code",
      "source": [
        "print(a, b)"
      ],
      "metadata": {
        "colab": {
          "base_uri": "https://localhost:8080/"
        },
        "id": "s4n4iL4y0xYE",
        "outputId": "991b9f2c-951f-4b8b-e9b5-9fc495ced243"
      },
      "execution_count": 3,
      "outputs": [
        {
          "output_type": "stream",
          "name": "stdout",
          "text": [
            "5 6\n"
          ]
        }
      ]
    },
    {
      "cell_type": "code",
      "source": [
        "c = 9"
      ],
      "metadata": {
        "id": "bJhsWXA_0_bY"
      },
      "execution_count": null,
      "outputs": []
    },
    {
      "cell_type": "markdown",
      "source": [
        "Celowo nie uruchamiam wiersza c = 9 by wygenerować bład\n"
      ],
      "metadata": {
        "id": "TmYpNkFi1FBT"
      }
    },
    {
      "cell_type": "code",
      "source": [
        "print(c)"
      ],
      "metadata": {
        "colab": {
          "base_uri": "https://localhost:8080/",
          "height": 158
        },
        "id": "kkyjgprW1A7m",
        "outputId": "506bf029-e742-46e7-9ae3-07d271110aaf"
      },
      "execution_count": 4,
      "outputs": [
        {
          "output_type": "error",
          "ename": "NameError",
          "evalue": "name 'c' is not defined",
          "traceback": [
            "\u001b[0;31m---------------------------------------------------------------------------\u001b[0m",
            "\u001b[0;31mNameError\u001b[0m                                 Traceback (most recent call last)",
            "\u001b[0;32m<ipython-input-4-1dd5973cae19>\u001b[0m in \u001b[0;36m<cell line: 0>\u001b[0;34m()\u001b[0m\n\u001b[0;32m----> 1\u001b[0;31m \u001b[0mprint\u001b[0m\u001b[0;34m(\u001b[0m\u001b[0mc\u001b[0m\u001b[0;34m)\u001b[0m\u001b[0;34m\u001b[0m\u001b[0;34m\u001b[0m\u001b[0m\n\u001b[0m",
            "\u001b[0;31mNameError\u001b[0m: name 'c' is not defined"
          ]
        }
      ]
    },
    {
      "cell_type": "markdown",
      "source": [
        "# Biblioteka NumPy"
      ],
      "metadata": {
        "id": "wKhgBOcy3c8U"
      }
    },
    {
      "cell_type": "markdown",
      "source": [
        "Napisana w c do szybkich operacji na danych tablicowych<br>\n",
        "podstawowy element ndarray"
      ],
      "metadata": {
        "id": "5FewQwCM3j-o"
      }
    },
    {
      "cell_type": "code",
      "source": [
        "!pip install numpy\n",
        "# !pip install numpy==2.2.0"
      ],
      "metadata": {
        "colab": {
          "base_uri": "https://localhost:8080/"
        },
        "id": "C6m8L31E3YeL",
        "outputId": "51b1008d-8cc5-4948-f356-b94d98d3065d"
      },
      "execution_count": 5,
      "outputs": [
        {
          "output_type": "stream",
          "name": "stdout",
          "text": [
            "Requirement already satisfied: numpy in /usr/local/lib/python3.11/dist-packages (2.0.2)\n"
          ]
        }
      ]
    },
    {
      "cell_type": "code",
      "source": [
        "import numpy as np\n",
        "\n",
        "lista = [2, 4, 6, 8, 10]\n",
        "print(lista)\n",
        "lista"
      ],
      "metadata": {
        "colab": {
          "base_uri": "https://localhost:8080/"
        },
        "id": "CQOv_9be4JcL",
        "outputId": "165c3d5d-d2d9-4743-d695-da05027cebf6"
      },
      "execution_count": 6,
      "outputs": [
        {
          "output_type": "stream",
          "name": "stdout",
          "text": [
            "[2, 4, 6, 8, 10]\n"
          ]
        },
        {
          "output_type": "execute_result",
          "data": {
            "text/plain": [
              "[2, 4, 6, 8, 10]"
            ]
          },
          "metadata": {},
          "execution_count": 6
        }
      ]
    },
    {
      "cell_type": "code",
      "source": [
        "a = np.array(lista)\n",
        "print(a)"
      ],
      "metadata": {
        "colab": {
          "base_uri": "https://localhost:8080/"
        },
        "id": "LDNgzcIB4rJi",
        "outputId": "a1a4d54d-0d7d-4545-f832-5443377b7d98"
      },
      "execution_count": 7,
      "outputs": [
        {
          "output_type": "stream",
          "name": "stdout",
          "text": [
            "[ 2  4  6  8 10]\n"
          ]
        }
      ]
    },
    {
      "cell_type": "code",
      "source": [
        "print(a.dtype)"
      ],
      "metadata": {
        "colab": {
          "base_uri": "https://localhost:8080/"
        },
        "id": "TO02g3UB5B7r",
        "outputId": "876db182-d8c2-49e5-d5d2-9d2a808fa6ab"
      },
      "execution_count": 8,
      "outputs": [
        {
          "output_type": "stream",
          "name": "stdout",
          "text": [
            "int64\n"
          ]
        }
      ]
    },
    {
      "cell_type": "markdown",
      "source": [
        "int64 - 8 bajtów"
      ],
      "metadata": {
        "id": "0kVFyKpg5JS5"
      }
    },
    {
      "cell_type": "code",
      "source": [
        "print(type(a))"
      ],
      "metadata": {
        "colab": {
          "base_uri": "https://localhost:8080/"
        },
        "id": "s1hkmoF-5NOn",
        "outputId": "26db72ca-7256-433d-9de1-780cec574382"
      },
      "execution_count": 9,
      "outputs": [
        {
          "output_type": "stream",
          "name": "stdout",
          "text": [
            "<class 'numpy.ndarray'>\n"
          ]
        }
      ]
    },
    {
      "cell_type": "code",
      "source": [
        "print(a.shape)"
      ],
      "metadata": {
        "colab": {
          "base_uri": "https://localhost:8080/"
        },
        "id": "vSCQBUzU5snd",
        "outputId": "40b0f806-a55c-4da2-b13b-eed18cf2dd7c"
      },
      "execution_count": 10,
      "outputs": [
        {
          "output_type": "stream",
          "name": "stdout",
          "text": [
            "(5,)\n"
          ]
        }
      ]
    },
    {
      "cell_type": "code",
      "source": [
        "p = np.zeros((3,3))\n",
        "p"
      ],
      "metadata": {
        "colab": {
          "base_uri": "https://localhost:8080/"
        },
        "id": "nteip5-f6DjK",
        "outputId": "c62ac616-29cb-4fee-c1e9-77bcafedaab6"
      },
      "execution_count": 11,
      "outputs": [
        {
          "output_type": "execute_result",
          "data": {
            "text/plain": [
              "array([[0., 0., 0.],\n",
              "       [0., 0., 0.],\n",
              "       [0., 0., 0.]])"
            ]
          },
          "metadata": {},
          "execution_count": 11
        }
      ]
    },
    {
      "cell_type": "code",
      "source": [
        "print(p.dtype)"
      ],
      "metadata": {
        "colab": {
          "base_uri": "https://localhost:8080/"
        },
        "id": "jg6Z-NX96WsA",
        "outputId": "cc7476ee-0a99-492e-dfe3-01495f7a9e4f"
      },
      "execution_count": 12,
      "outputs": [
        {
          "output_type": "stream",
          "name": "stdout",
          "text": [
            "float64\n"
          ]
        }
      ]
    },
    {
      "cell_type": "code",
      "source": [
        "q = np.ones((2, 2))\n",
        "print(q)\n",
        "q.dtype"
      ],
      "metadata": {
        "colab": {
          "base_uri": "https://localhost:8080/"
        },
        "id": "ICELwFOR6ZeS",
        "outputId": "bd96ba99-bf7f-41e3-8853-c0ea83f42af2"
      },
      "execution_count": 14,
      "outputs": [
        {
          "output_type": "stream",
          "name": "stdout",
          "text": [
            "[[1. 1.]\n",
            " [1. 1.]]\n"
          ]
        },
        {
          "output_type": "execute_result",
          "data": {
            "text/plain": [
              "dtype('float64')"
            ]
          },
          "metadata": {},
          "execution_count": 14
        }
      ]
    },
    {
      "cell_type": "code",
      "source": [
        "r = np.full((2,2),4)\n",
        "print(r)\n",
        "print(r.dtype)"
      ],
      "metadata": {
        "colab": {
          "base_uri": "https://localhost:8080/"
        },
        "id": "ezEhX9-f62sB",
        "outputId": "c2e17c97-5613-4a73-fdeb-d76278a7fd2b"
      },
      "execution_count": 16,
      "outputs": [
        {
          "output_type": "stream",
          "name": "stdout",
          "text": [
            "[[4 4]\n",
            " [4 4]]\n",
            "int64\n"
          ]
        }
      ]
    },
    {
      "cell_type": "code",
      "source": [
        "s = np.eye(4)\n",
        "print(s)\n",
        "print(s.dtype)"
      ],
      "metadata": {
        "colab": {
          "base_uri": "https://localhost:8080/"
        },
        "id": "4Tzp-0Np7HfH",
        "outputId": "fc673490-7785-4189-c866-7df7df5ac50b"
      },
      "execution_count": 17,
      "outputs": [
        {
          "output_type": "stream",
          "name": "stdout",
          "text": [
            "[[1. 0. 0. 0.]\n",
            " [0. 1. 0. 0.]\n",
            " [0. 0. 1. 0.]\n",
            " [0. 0. 0. 1.]]\n",
            "float64\n"
          ]
        }
      ]
    },
    {
      "cell_type": "code",
      "source": [
        "t = np.random.random((3,3))\n",
        "print(t)\n",
        "print(t.dtype)"
      ],
      "metadata": {
        "colab": {
          "base_uri": "https://localhost:8080/"
        },
        "id": "ZFzWjmru7QgX",
        "outputId": "a12b5d19-507c-464a-fdda-a01efbc2dd31"
      },
      "execution_count": 18,
      "outputs": [
        {
          "output_type": "stream",
          "name": "stdout",
          "text": [
            "[[0.26154255 0.52564812 0.76794791]\n",
            " [0.6436899  0.22858924 0.17308316]\n",
            " [0.94831344 0.34665436 0.66157699]]\n",
            "float64\n"
          ]
        }
      ]
    },
    {
      "cell_type": "code",
      "source": [
        "lista2 = [[5,6], [7,8]]\n",
        "b = np.array(lista2)\n",
        "print(lista2)\n",
        "print(b)"
      ],
      "metadata": {
        "colab": {
          "base_uri": "https://localhost:8080/"
        },
        "id": "uiF8ggOJ7gEa",
        "outputId": "ac48d925-5f7f-49ec-bcda-a867824b1e92"
      },
      "execution_count": 19,
      "outputs": [
        {
          "output_type": "stream",
          "name": "stdout",
          "text": [
            "[[5, 6], [7, 8]]\n",
            "[[5 6]\n",
            " [7 8]]\n"
          ]
        }
      ]
    },
    {
      "cell_type": "markdown",
      "source": [
        "ravel() - spłaszczenie"
      ],
      "metadata": {
        "id": "cpba53Rn7ysW"
      }
    },
    {
      "cell_type": "code",
      "source": [
        "print(b.ravel())"
      ],
      "metadata": {
        "colab": {
          "base_uri": "https://localhost:8080/"
        },
        "id": "l8K_BHzu72J4",
        "outputId": "b60bf63d-fcb2-47a3-d445-0cff3df1d43d"
      },
      "execution_count": 20,
      "outputs": [
        {
          "output_type": "stream",
          "name": "stdout",
          "text": [
            "[5 6 7 8]\n"
          ]
        }
      ]
    },
    {
      "cell_type": "code",
      "source": [
        "print(b[0])"
      ],
      "metadata": {
        "colab": {
          "base_uri": "https://localhost:8080/"
        },
        "id": "eheDBSVb7_Jh",
        "outputId": "5d7b33fc-ebf7-4119-ae22-a58773530d0b"
      },
      "execution_count": 21,
      "outputs": [
        {
          "output_type": "stream",
          "name": "stdout",
          "text": [
            "[5 6]\n"
          ]
        }
      ]
    },
    {
      "cell_type": "code",
      "source": [
        "print(b[0, 0])\n",
        "print(b[0, 1])"
      ],
      "metadata": {
        "colab": {
          "base_uri": "https://localhost:8080/"
        },
        "id": "JrK-yvIk8IWv",
        "outputId": "fd60ccc7-9aff-42be-9757-fe71ceb46cc1"
      },
      "execution_count": 23,
      "outputs": [
        {
          "output_type": "stream",
          "name": "stdout",
          "text": [
            "5\n",
            "6\n"
          ]
        }
      ]
    },
    {
      "cell_type": "code",
      "source": [
        "print(np.float64(21))"
      ],
      "metadata": {
        "colab": {
          "base_uri": "https://localhost:8080/"
        },
        "id": "iBXrN2st8hl1",
        "outputId": "5dabfc78-2049-4ef1-fb91-cf57229479a1"
      },
      "execution_count": 24,
      "outputs": [
        {
          "output_type": "stream",
          "name": "stdout",
          "text": [
            "21.0\n"
          ]
        }
      ]
    },
    {
      "cell_type": "code",
      "source": [
        "print(np.int64(22.0))"
      ],
      "metadata": {
        "colab": {
          "base_uri": "https://localhost:8080/"
        },
        "id": "gRneG0378n-E",
        "outputId": "953d9008-0089-4eb2-ef86-c400513e8346"
      },
      "execution_count": 25,
      "outputs": [
        {
          "output_type": "stream",
          "name": "stdout",
          "text": [
            "22\n"
          ]
        }
      ]
    },
    {
      "cell_type": "code",
      "source": [
        "print(np.bool(21))"
      ],
      "metadata": {
        "colab": {
          "base_uri": "https://localhost:8080/"
        },
        "id": "JEUoZjTk80XK",
        "outputId": "95af4608-0cc9-4d03-a4e3-d697993374e0"
      },
      "execution_count": 26,
      "outputs": [
        {
          "output_type": "stream",
          "name": "stdout",
          "text": [
            "True\n"
          ]
        }
      ]
    },
    {
      "cell_type": "code",
      "source": [
        "print(np.float64(True))"
      ],
      "metadata": {
        "colab": {
          "base_uri": "https://localhost:8080/"
        },
        "id": "iQ4ZsLsF85_e",
        "outputId": "be74f154-5597-44f6-c2f9-d758af5e7e30"
      },
      "execution_count": 27,
      "outputs": [
        {
          "output_type": "stream",
          "name": "stdout",
          "text": [
            "1.0\n"
          ]
        }
      ]
    },
    {
      "cell_type": "code",
      "source": [
        "arr = np.arange(1, 11, dtype=np.float64)\n",
        "print(arr)"
      ],
      "metadata": {
        "colab": {
          "base_uri": "https://localhost:8080/"
        },
        "id": "r2fKNHQm9NpW",
        "outputId": "6fdc3fa2-3366-47b0-e9a9-604d890192e1"
      },
      "execution_count": 28,
      "outputs": [
        {
          "output_type": "stream",
          "name": "stdout",
          "text": [
            "[ 1.  2.  3.  4.  5.  6.  7.  8.  9. 10.]\n"
          ]
        }
      ]
    },
    {
      "cell_type": "code",
      "source": [
        "print(arr.dtype)"
      ],
      "metadata": {
        "colab": {
          "base_uri": "https://localhost:8080/"
        },
        "id": "N90a6e9o9cip",
        "outputId": "e5d7bde4-69a4-4aca-f35e-0e69fc3657b1"
      },
      "execution_count": 29,
      "outputs": [
        {
          "output_type": "stream",
          "name": "stdout",
          "text": [
            "float64\n"
          ]
        }
      ]
    },
    {
      "cell_type": "markdown",
      "source": [
        "reshape() - zmiana kształtu"
      ],
      "metadata": {
        "id": "jHjcIpwL9qYw"
      }
    },
    {
      "cell_type": "code",
      "source": [
        "arr = np.arange(12)\n",
        "print(arr)"
      ],
      "metadata": {
        "colab": {
          "base_uri": "https://localhost:8080/"
        },
        "id": "dNid2Er69tNV",
        "outputId": "85fe4d0d-7dda-4d3e-cb22-cdcaaf270801"
      },
      "execution_count": 30,
      "outputs": [
        {
          "output_type": "stream",
          "name": "stdout",
          "text": [
            "[ 0  1  2  3  4  5  6  7  8  9 10 11]\n"
          ]
        }
      ]
    },
    {
      "cell_type": "code",
      "source": [
        "new_arr = arr.reshape(4, 3)\n",
        "print(new_arr)"
      ],
      "metadata": {
        "colab": {
          "base_uri": "https://localhost:8080/"
        },
        "id": "lclf_TqW90eN",
        "outputId": "61fa6051-3800-47e1-8745-fd9a122588f5"
      },
      "execution_count": 31,
      "outputs": [
        {
          "output_type": "stream",
          "name": "stdout",
          "text": [
            "[[ 0  1  2]\n",
            " [ 3  4  5]\n",
            " [ 6  7  8]\n",
            " [ 9 10 11]]\n"
          ]
        }
      ]
    },
    {
      "cell_type": "code",
      "source": [
        "new_arr = arr.reshape(3, 4)\n",
        "print(new_arr)"
      ],
      "metadata": {
        "colab": {
          "base_uri": "https://localhost:8080/"
        },
        "id": "o_x1tHeV-HJr",
        "outputId": "e821bf93-6e36-47df-d19b-273286ec49fa"
      },
      "execution_count": 32,
      "outputs": [
        {
          "output_type": "stream",
          "name": "stdout",
          "text": [
            "[[ 0  1  2  3]\n",
            " [ 4  5  6  7]\n",
            " [ 8  9 10 11]]\n"
          ]
        }
      ]
    },
    {
      "cell_type": "code",
      "source": [
        "new_arr = arr.reshape(3, 5)\n",
        "print(new_arr)"
      ],
      "metadata": {
        "colab": {
          "base_uri": "https://localhost:8080/",
          "height": 175
        },
        "id": "YliBg1RV-Ng2",
        "outputId": "45c696ec-6b78-48a9-d254-11e1205682f4"
      },
      "execution_count": 33,
      "outputs": [
        {
          "output_type": "error",
          "ename": "ValueError",
          "evalue": "cannot reshape array of size 12 into shape (3,5)",
          "traceback": [
            "\u001b[0;31m---------------------------------------------------------------------------\u001b[0m",
            "\u001b[0;31mValueError\u001b[0m                                Traceback (most recent call last)",
            "\u001b[0;32m<ipython-input-33-75519fdd242d>\u001b[0m in \u001b[0;36m<cell line: 0>\u001b[0;34m()\u001b[0m\n\u001b[0;32m----> 1\u001b[0;31m \u001b[0mnew_arr\u001b[0m \u001b[0;34m=\u001b[0m \u001b[0marr\u001b[0m\u001b[0;34m.\u001b[0m\u001b[0mreshape\u001b[0m\u001b[0;34m(\u001b[0m\u001b[0;36m3\u001b[0m\u001b[0;34m,\u001b[0m \u001b[0;36m5\u001b[0m\u001b[0;34m)\u001b[0m\u001b[0;34m\u001b[0m\u001b[0;34m\u001b[0m\u001b[0m\n\u001b[0m\u001b[1;32m      2\u001b[0m \u001b[0mprint\u001b[0m\u001b[0;34m(\u001b[0m\u001b[0mnew_arr\u001b[0m\u001b[0;34m)\u001b[0m\u001b[0;34m\u001b[0m\u001b[0;34m\u001b[0m\u001b[0m\n",
            "\u001b[0;31mValueError\u001b[0m: cannot reshape array of size 12 into shape (3,5)"
          ]
        }
      ]
    },
    {
      "cell_type": "code",
      "source": [
        "new_arr = arr.reshape(3, 3)\n",
        "print(new_arr)"
      ],
      "metadata": {
        "colab": {
          "base_uri": "https://localhost:8080/",
          "height": 175
        },
        "id": "qNnYCmqn-Uxv",
        "outputId": "26d1d7ad-bcec-4ecb-a479-6c398dbf0e7c"
      },
      "execution_count": 35,
      "outputs": [
        {
          "output_type": "error",
          "ename": "ValueError",
          "evalue": "cannot reshape array of size 12 into shape (3,3)",
          "traceback": [
            "\u001b[0;31m---------------------------------------------------------------------------\u001b[0m",
            "\u001b[0;31mValueError\u001b[0m                                Traceback (most recent call last)",
            "\u001b[0;32m<ipython-input-35-9514a8f42ab9>\u001b[0m in \u001b[0;36m<cell line: 0>\u001b[0;34m()\u001b[0m\n\u001b[0;32m----> 1\u001b[0;31m \u001b[0mnew_arr\u001b[0m \u001b[0;34m=\u001b[0m \u001b[0marr\u001b[0m\u001b[0;34m.\u001b[0m\u001b[0mreshape\u001b[0m\u001b[0;34m(\u001b[0m\u001b[0;36m3\u001b[0m\u001b[0;34m,\u001b[0m \u001b[0;36m3\u001b[0m\u001b[0;34m)\u001b[0m\u001b[0;34m\u001b[0m\u001b[0;34m\u001b[0m\u001b[0m\n\u001b[0m\u001b[1;32m      2\u001b[0m \u001b[0mprint\u001b[0m\u001b[0;34m(\u001b[0m\u001b[0mnew_arr\u001b[0m\u001b[0;34m)\u001b[0m\u001b[0;34m\u001b[0m\u001b[0;34m\u001b[0m\u001b[0m\n",
            "\u001b[0;31mValueError\u001b[0m: cannot reshape array of size 12 into shape (3,3)"
          ]
        }
      ]
    },
    {
      "cell_type": "markdown",
      "source": [
        "ravel() zwraca widok, operacje na nowym widoku \"tablicy\" wpływają na zmiany oryginalnej tablicy"
      ],
      "metadata": {
        "id": "eCSqZ7dY_vfA"
      }
    },
    {
      "cell_type": "code",
      "source": [
        "print(new_arr.ravel())"
      ],
      "metadata": {
        "colab": {
          "base_uri": "https://localhost:8080/"
        },
        "id": "bpV_jCXQ-tce",
        "outputId": "1e5d1735-4a03-476c-fba4-fbe23cb1bb5d"
      },
      "execution_count": 39,
      "outputs": [
        {
          "output_type": "stream",
          "name": "stdout",
          "text": [
            "[ 0  1  2  3  4  5  6  7  8  9 10 11]\n"
          ]
        }
      ]
    },
    {
      "cell_type": "markdown",
      "source": [
        "flatten() - spłaszcza ale robi kopię\\\n",
        "zmiany nie wpływają na oryginalną tablicę"
      ],
      "metadata": {
        "id": "v3drTPfO_QU4"
      }
    },
    {
      "cell_type": "code",
      "source": [
        "print(new_arr.flatten())"
      ],
      "metadata": {
        "colab": {
          "base_uri": "https://localhost:8080/"
        },
        "id": "e_sYfLP5-x9o",
        "outputId": "2c5dc4ca-7af6-4c2d-d0ca-669b576877db"
      },
      "execution_count": 38,
      "outputs": [
        {
          "output_type": "stream",
          "name": "stdout",
          "text": [
            "[ 0  1  2  3  4  5  6  7  8  9 10 11]\n"
          ]
        }
      ]
    },
    {
      "cell_type": "code",
      "source": [
        "flat = new_arr.flatten()\n",
        "rav = new_arr.ravel()"
      ],
      "metadata": {
        "id": "3rNO25YL_VK-"
      },
      "execution_count": 40,
      "outputs": []
    },
    {
      "cell_type": "code",
      "source": [
        "flat[0] = 999\n",
        "rav[1] = 888"
      ],
      "metadata": {
        "id": "FtM4z3Xt_ebZ"
      },
      "execution_count": 41,
      "outputs": []
    },
    {
      "cell_type": "code",
      "source": [
        "print(new_arr)"
      ],
      "metadata": {
        "colab": {
          "base_uri": "https://localhost:8080/"
        },
        "id": "Rqu0NcKZ_i6Y",
        "outputId": "ad331f5e-821d-4ab8-e2ca-7d9006f44983"
      },
      "execution_count": 42,
      "outputs": [
        {
          "output_type": "stream",
          "name": "stdout",
          "text": [
            "[[  0 888   2   3]\n",
            " [  4   5   6   7]\n",
            " [  8   9  10  11]]\n"
          ]
        }
      ]
    },
    {
      "cell_type": "markdown",
      "source": [
        "transpose() - zaminia osie"
      ],
      "metadata": {
        "id": "PjwPtIrMAbIT"
      }
    },
    {
      "cell_type": "code",
      "source": [
        "print(new_arr.transpose())"
      ],
      "metadata": {
        "colab": {
          "base_uri": "https://localhost:8080/"
        },
        "id": "_AhqlnAYAgIN",
        "outputId": "b600421e-ac95-42a6-cd2c-df9dab13aa89"
      },
      "execution_count": 43,
      "outputs": [
        {
          "output_type": "stream",
          "name": "stdout",
          "text": [
            "[[  0   4   8]\n",
            " [888   5   9]\n",
            " [  2   6  10]\n",
            " [  3   7  11]]\n"
          ]
        }
      ]
    },
    {
      "cell_type": "markdown",
      "source": [
        "resize() - zmienia rozmiar tablicy\n",
        "zmienia oryginalna tablice in-place\n",
        "brakujące eleemnty wypełni zerami"
      ],
      "metadata": {
        "id": "22B2kK81BFdx"
      }
    },
    {
      "cell_type": "code",
      "source": [
        "new_arr.resize(1,12)\n",
        "print(new_arr)"
      ],
      "metadata": {
        "colab": {
          "base_uri": "https://localhost:8080/"
        },
        "id": "VSs3gDzCA3YP",
        "outputId": "4fae4dd4-0b5e-41e2-8007-13ca5dfb78fd"
      },
      "execution_count": 45,
      "outputs": [
        {
          "output_type": "stream",
          "name": "stdout",
          "text": [
            "[[  0 888   2   3   4   5   6   7   8   9  10  11]]\n"
          ]
        }
      ]
    },
    {
      "cell_type": "code",
      "source": [
        "arr1 = np.arange(1,10).reshape(3,3)\n",
        "print(arr1)"
      ],
      "metadata": {
        "colab": {
          "base_uri": "https://localhost:8080/"
        },
        "id": "KDgmSTCUB8Na",
        "outputId": "e88ad4c0-afe7-4a8d-ce79-e27047634ada"
      },
      "execution_count": 46,
      "outputs": [
        {
          "output_type": "stream",
          "name": "stdout",
          "text": [
            "[[1 2 3]\n",
            " [4 5 6]\n",
            " [7 8 9]]\n"
          ]
        }
      ]
    }
  ]
}