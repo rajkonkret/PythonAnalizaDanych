{
  "nbformat": 4,
  "nbformat_minor": 0,
  "metadata": {
    "colab": {
      "provenance": [],
      "authorship_tag": "ABX9TyN58IpYzfrV0Y/upjHjN/Yd",
      "include_colab_link": true
    },
    "kernelspec": {
      "name": "python3",
      "display_name": "Python 3"
    },
    "language_info": {
      "name": "python"
    }
  },
  "cells": [
    {
      "cell_type": "markdown",
      "metadata": {
        "id": "view-in-github",
        "colab_type": "text"
      },
      "source": [
        "<a href=\"https://colab.research.google.com/github/rajkonkret/PythonAnalizaDanych/blob/master/cwiczenie1_analiza.ipynb\" target=\"_parent\"><img src=\"https://colab.research.google.com/assets/colab-badge.svg\" alt=\"Open In Colab\"/></a>"
      ]
    },
    {
      "cell_type": "markdown",
      "source": [
        "Początek programu\n",
        "**pogrubiony tekst**<br>\n",
        "Nowa linia\n",
        "# Nowa sekcja\n",
        "## Nowa sekcja"
      ],
      "metadata": {
        "id": "qF2-XcYSyUqt"
      }
    },
    {
      "cell_type": "code",
      "execution_count": null,
      "metadata": {
        "id": "L5-w5zdpwzY9"
      },
      "outputs": [],
      "source": []
    }
  ]
}